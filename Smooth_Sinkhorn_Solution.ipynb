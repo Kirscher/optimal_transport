{
  "cells": [
    {
      "cell_type": "code",
      "execution_count": null,
      "metadata": {
        "colab": {
          "base_uri": "https://localhost:8080/"
        },
        "id": "bBFX85A2H30Z",
        "outputId": "d9889cbb-9a35-4b23-cb62-3c412e29fbe6"
      },
      "outputs": [
        {
          "name": "stdout",
          "output_type": "stream",
          "text": [
            "  Installing build dependencies ... \u001b[?25l\u001b[?25hdone\n",
            "  Getting requirements to build wheel ... \u001b[?25l\u001b[?25hdone\n",
            "  Installing backend dependencies ... \u001b[?25l\u001b[?25hdone\n",
            "  Preparing metadata (pyproject.toml) ... \u001b[?25l\u001b[?25hdone\n",
            "\u001b[2K     \u001b[90m━━━━━━━━━━━━━━━━━━━━━━━━━━━━━━━━━━━━━━━\u001b[0m \u001b[32m151.2/151.2 kB\u001b[0m \u001b[31m3.2 MB/s\u001b[0m eta \u001b[36m0:00:00\u001b[0m\n",
            "\u001b[2K     \u001b[90m━━━━━━━━━━━━━━━━━━━━━━━━━━━━━━━━━━━━━━━━\u001b[0m \u001b[32m61.9/61.9 kB\u001b[0m \u001b[31m6.7 MB/s\u001b[0m eta \u001b[36m0:00:00\u001b[0m\n",
            "\u001b[2K     \u001b[90m━━━━━━━━━━━━━━━━━━━━━━━━━━━━━━━━━━━━━━\u001b[0m \u001b[32m132.3/132.3 kB\u001b[0m \u001b[31m15.5 MB/s\u001b[0m eta \u001b[36m0:00:00\u001b[0m\n",
            "\u001b[?25h  Building wheel for ott-jax (pyproject.toml) ... \u001b[?25l\u001b[?25hdone\n"
          ]
        }
      ],
      "source": [
        "import numpy as np\n",
        "from scipy import optimize\n",
        "!pip install -q git+https://github.com/ott-jax/ott@main"
      ]
    },
    {
      "cell_type": "code",
      "execution_count": null,
      "metadata": {
        "id": "eGdZ04lIIQZr"
      },
      "outputs": [],
      "source": [
        "import jax\n",
        "import jax.numpy as jnp\n",
        "from ott.geometry.pointcloud import PointCloud\n",
        "from ott.tools.plot import Plot\n",
        "from ott.solvers.linear import sinkhorn\n",
        "from collections import namedtuple\n",
        "import matplotlib.pyplot as plt\n",
        "import matplotlib.animation as animation\n",
        "from IPython import display"
      ]
    },
    {
      "cell_type": "code",
      "execution_count": null,
      "metadata": {
        "id": "hDPmiJ9gISE_"
      },
      "outputs": [],
      "source": [
        "outs = []\n",
        "def plot_match_anim(n: int, frames: int=20):\n",
        "  dim = 2\n",
        "  fig = plt.figure(figsize=(8, 5))\n",
        "  rngs = jax.random.split(jax.random.PRNGKey(0),3)\n",
        "  x0 = jax.random.uniform(rngs[0],(n,dim))\n",
        "  y = jax.random.uniform(rngs[1],(n,dim))\n",
        "  x1 = jax.random.uniform(rngs[2],(n,dim))\n",
        "  for t in jnp.linspace(0,1,frames):\n",
        "    geom = PointCloud((1-t)*x0 + t*x1,y, epsilon=0.01)\n",
        "    matrix = jax.jit(sinkhorn.solve)(geom).matrix\n",
        "    OT = namedtuple('OT', 'matrix geom a b')\n",
        "    outs.append(OT(matrix, geom, jnp.ones((n,))/n, jnp.ones((n,))/n))\n",
        "  plott = Plot(fig=fig, threshold=1e-9)\n",
        "  anim = plott.animate(outs, frame_rate=4)\n",
        "  html = display.HTML(anim.to_jshtml())\n",
        "  display.display(html)\n",
        "  writervideo = animation.FFMpegWriter(fps=10)\n",
        "  anim.save('smooth_sinkhorn.mp4', writer=writervideo)\n",
        "  plt.close()\n"
      ]
    },
    {
      "cell_type": "code",
      "execution_count": null,
      "metadata": {
        "colab": {
          "background_save": true,
          "base_uri": "https://localhost:8080/",
          "height": 635
        },
        "id": "IsE1tAE9iBgh",
        "outputId": "c174bb87-3456-412e-8743-d553989392ab"
      },
      "outputs": [],
      "source": [
        "plot_match_anim(20,200)"
      ]
    },
    {
      "cell_type": "code",
      "execution_count": null,
      "metadata": {
        "id": "VM55331ViK3W"
      },
      "outputs": [],
      "source": []
    }
  ],
  "metadata": {
    "colab": {
      "provenance": []
    },
    "kernelspec": {
      "display_name": "Python 3",
      "name": "python3"
    },
    "language_info": {
      "name": "python"
    }
  },
  "nbformat": 4,
  "nbformat_minor": 0
}